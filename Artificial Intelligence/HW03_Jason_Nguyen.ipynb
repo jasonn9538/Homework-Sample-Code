{
 "cells": [
  {
   "cell_type": "markdown",
   "metadata": {},
   "source": [
    "<a id='top'></a>\n",
    "\n",
    "# CSCI 3202, Spring 2020\n",
    "# Assignment 3\n",
    "# Due:  Friday 6 March 2020 by 11:59 PM\n",
    "\n",
    "<br>\n",
    "\n",
    "### Your name: Jason Nguyen\n",
    "\n",
    "<br>\n",
    "\n",
    "\n"
   ]
  },
  {
   "cell_type": "markdown",
   "metadata": {},
   "source": [
    "**Some things that might be useful**\n"
   ]
  },
  {
   "cell_type": "code",
   "execution_count": 1,
   "metadata": {},
   "outputs": [],
   "source": [
    "import pandas as pd\n",
    "import numpy as np\n",
    "import copy as cp\n",
    "from scipy import stats\n",
    "from math import floor\n",
    "import matplotlib.pyplot as plt\n",
    "import csv\n",
    "from time import time"
   ]
  },
  {
   "cell_type": "markdown",
   "metadata": {},
   "source": [
    "<br>\n",
    "\n",
    "---\n",
    "\n",
    "## Problem 1 (35 points):  Playing \"intelligent\" Tic-Tac-Toe\n",
    "\n",
    "<img src=\"https://www.cookieshq.co.uk/images/2016/06/01/tic-tac-toe.png\" width=\"150\"/>\n",
    "\n",
    "<a id='p2a'></a>\n",
    "\n",
    "### (1a)   Defining the Tic-Tac-Toe class structure\n",
    "\n",
    "Fill in this class structure for Tic-Tac-Toe using what we did during class as a guide.\n",
    "* `moves` is a list of tuples to represent which moves are available. Recall that we are using matrix notation for this, where the upper-left corner of the board, for example, is represented at (1,1).\n",
    "* `result(self, move, state)` returns a ***hypothetical*** resulting `State` object if `move` is made when the game is in the current `state`\n",
    "* `compute_utility(self, move, state)` calculates the utility of `state` that would result if `move` is made when the game is in the current `state`. This is where you want to check to see if anyone has gotten `nwin` in a row\n",
    "* `game_over(self, state)` - this wasn't a method, but it should be - it's a piece of code we need to execute repeatedly and giving it a name makes clear what task the piece of code performs. Returns `True` if the game in the given `state` has reached a terminal state, and `False` otherwise.\n",
    "* `utility(self, state, player)` also wasn't a method earlier, but also should be.  Returns the utility of the current state if the player is X and $-1 \\cdot$ utility if the player is O.\n",
    "* `display(self)` is a method to display the current game `state`, You get it for free! because this would be super frustrating without it.\n",
    "* `play_game(self, player1, player2)` returns an integer that is the utility of the outcome of the game (+1 if X wins, 0 if draw, -1 if O wins). `player1` and `player2` are functional arguments that we will deal with in parts **2b** and **2d**.\n",
    "\n",
    "Some notes:\n",
    "* Assume X always goes first.\n",
    "* Do **not** hard-code for 3x3 boards.\n",
    "* You may add attributes and methods to these classes as needed for this problem."
   ]
  },
  {
   "cell_type": "code",
   "execution_count": 2,
   "metadata": {},
   "outputs": [],
   "source": [
    "class State:\n",
    "    def __init__(self, moves):\n",
    "        self.to_move = 'X'\n",
    "        self.utility = 0\n",
    "        self.board = {}\n",
    "        self.moves = moves\n",
    "\n",
    "class TicTacToe:\n",
    "    def __init__(self, nrow=3, ncol=3, nwin=3):\n",
    "        self.nrow = nrow\n",
    "        self.ncol = ncol\n",
    "        self.nwin = nwin\n",
    "        moves = [(row, col) for row in range(1, nrow + 1) for col in range(1, ncol + 1)]\n",
    "        self.state = State(moves)\n",
    "\n",
    "    def result(self, move, state):\n",
    "        '''\n",
    "        What is the hypothetical result of move `move` in state `state` ?\n",
    "        move  = (row, col) tuple where player will put their mark (X or O)\n",
    "        state = a `State` object, to represent whose turn it is and form\n",
    "                the basis for generating a **hypothetical** updated state\n",
    "                that will result from making the given `move`\n",
    "        '''\n",
    "        # Don't do anything if the move isn't a legal one\n",
    "        if move not in state.moves:\n",
    "            return state\n",
    "        # Return a copy of the updated state:\n",
    "        #   compute utility, update the board, remove the move, update whose turn\n",
    "        new_state = cp.deepcopy(state)\n",
    "        new_state.utility = self.compute_utility(move, state)\n",
    "        new_state.board[move] = state.to_move\n",
    "        new_state.moves.remove(move)\n",
    "        new_state.to_move = ('O' if state.to_move == 'X' else 'X')\n",
    "        return new_state\n",
    "\n",
    "    def compute_utility(self, move, state):\n",
    "        '''\n",
    "        What is the utility of making move `move` in state `state`?\n",
    "        If 'X' wins with this move, return 1;\n",
    "        if 'O' wins return -1;\n",
    "        else return 0.\n",
    "        '''        \n",
    "        row, col = move\n",
    "        player = state.to_move\n",
    "        \n",
    "        # create a hypothetical copy of the board, with 'move' executed\n",
    "        board = cp.deepcopy(state.board)\n",
    "        board[move] = player\n",
    "\n",
    "        # what are all the ways 'player' could with with 'move'?\n",
    "        \n",
    "        # check for row-wise win\n",
    "        in_a_row = 0\n",
    "        for c in range(1,self.ncol+1):\n",
    "            in_a_row += board.get((row,c))==player\n",
    "\n",
    "        # check for column-wise win\n",
    "        in_a_col = 0\n",
    "        for r in range(1,self.nrow+1):\n",
    "            in_a_col += board.get((r,col))==player\n",
    "\n",
    "        # check for NW->SE diagonal win\n",
    "        in_a_diag1 = 0\n",
    "        for r in range(row,0,-1):\n",
    "            in_a_diag1 += board.get((r,col-(row-r)))==player\n",
    "        for r in range(row+1,self.nrow+1):\n",
    "            in_a_diag1 += board.get((r,col-(row-r)))==player\n",
    "\n",
    "        # check for SW->NE diagonal win\n",
    "        in_a_diag2 = 0\n",
    "        for r in range(row,0,-1):\n",
    "            in_a_diag2 += board.get((r,col+(row-r)))==player\n",
    "        for r in range(row+1,self.nrow+1):\n",
    "            in_a_diag2 += board.get((r,col+(row-r)))==player\n",
    "        \n",
    "        if self.nwin in [in_a_row, in_a_col, in_a_diag1, in_a_diag2]:\n",
    "            return 1 if player=='X' else -1\n",
    "        else:\n",
    "            return 0\n",
    "\n",
    "    def game_over(self, state):\n",
    "        '''game is over if someone has won (utility!=0) or there\n",
    "        are no more moves left'''\n",
    "        return state.utility!=0 or len(state.moves)==0    \n",
    "\n",
    "    def utility(self, state, player):\n",
    "        '''Return the value to player; 1 for win, -1 for loss, 0 otherwise.'''\n",
    "        return state.utility if player=='X' else -state.utility\n",
    "\n",
    "    def display(self):\n",
    "        board = self.state.board\n",
    "        for row in range(1, self.nrow + 1):\n",
    "            for col in range(1, self.ncol + 1):\n",
    "                print(board.get((row, col), '.'), end=' ')\n",
    "            print()\n",
    "\n",
    "    def play_game(self, player1, player2):\n",
    "        '''Play a game of tic-tac-toe!'''\n",
    "        turn_limit = self.nrow*self.ncol  # limit in case of buggy code\n",
    "        turn = 0\n",
    "        while turn<=turn_limit:\n",
    "            for player in [player1, player2]:\n",
    "                turn += 1\n",
    "                move = player(self)\n",
    "                self.state = self.result(move, self.state)\n",
    "                if self.game_over(self.state):\n",
    "                    return self.state.utility "
   ]
  },
  {
   "cell_type": "markdown",
   "metadata": {},
   "source": [
    "<br>\n",
    "\n",
    "\n",
    "### (1b) Define a random player\n",
    "\n",
    "Define a function `random_player` that takes a single argument of the `TicTacToe` class and returns a random move out of the available legal moves in the `state` of the `TicTacToe` game.\n",
    "\n",
    "In your code for the `play_game` method above, make sure that `random_player` could be a viable input for the `player1` and/or `player2` arguments."
   ]
  },
  {
   "cell_type": "code",
   "execution_count": 3,
   "metadata": {},
   "outputs": [],
   "source": [
    "def random_player(game):\n",
    "    '''A player that chooses a legal move at random.'''\n",
    "    possible_actions = game.state.moves\n",
    "    return possible_actions[np.random.randint(low=0, high=len(possible_actions))]\n"
   ]
  },
  {
   "cell_type": "markdown",
   "metadata": {},
   "source": []
  },
  {
   "cell_type": "markdown",
   "metadata": {},
   "source": [
    "<br>\n",
    "\n",
    "\n",
    "### (1c) What about playing randomly on different-sized boards?\n",
    "\n",
    "What does the long-term win percentage appear to be for the first player in a 4x4 Tic-Tac-Toe tournament, where 4 marks must be connected for a win?  Support your answer using a simulation and printed output, similar to **2b**.\n",
    "\n",
    "**Also:** The win percentage should have changed substantially. Did the decrease in wins turn into more losses for the first player or more draws? Write a few sentences explaining the behavior you observed.  *Hint: think about how the size of the state space has changed.*"
   ]
  },
  {
   "cell_type": "code",
   "execution_count": 4,
   "metadata": {},
   "outputs": [
    {
     "name": "stdout",
     "output_type": "stream",
     "text": [
      "First-player winning percentage = 0.5877\n",
      "First-player losing percentage = 0.2858\n",
      "First-player draws percentage = 0.1265\n"
     ]
    }
   ],
   "source": [
    "# Your code here.\n",
    "niter = 10000\n",
    "wins = 0\n",
    "draws = 0\n",
    "losses = 0\n",
    "for k in range(niter):\n",
    "    ttt = TicTacToe(3,3,3)\n",
    "    out = ttt.play_game(random_player, random_player)\n",
    "    if out==1:\n",
    "        wins += 1\n",
    "    elif out==-1:\n",
    "        losses += 1\n",
    "    else:\n",
    "        draws += 1\n",
    "        \n",
    "print('First-player winning percentage = {}'.format(wins/niter))\n",
    "print('First-player losing percentage = {}'.format(losses/niter))\n",
    "print('First-player draws percentage = {}'.format(draws/niter))"
   ]
  },
  {
   "cell_type": "markdown",
   "metadata": {},
   "source": [
    "For a 4x4 board:\n",
    "- First-player winning percentage = 0.3144\n",
    "- First-player losing percentage = 0.2591\n",
    "- First-player draws percentage = 0.4265\n",
    "\n",
    "For a 3x3 board:\n",
    "- First-player winning percentage = 0.5907\n",
    "- First-player losing percentage = 0.2828\n",
    "- First-player draws percentage = 0.1265\n",
    "\n",
    "From the data above, each simulation was run with 10,000 iterations. You will notice that the chances that the second player wins in a 4x4 slightly increases while the chances that the first player wins decreases significantly. The amount of draws also rises significantly going from 12% of the time to a staggering 42%. Honestly my predictions would have been that the number of draws would have decreased but possibly since there is more turns that the players have to influence the end of the game, the draws increase.\n"
   ]
  },
  {
   "cell_type": "markdown",
   "metadata": {},
   "source": [
    "<br>\n",
    "\n",
    "\n",
    "### (1d) Define an alpha-beta player\n",
    "\n",
    "Alright. Let's finally get serious about our Tic-Tac-Toe game.  No more fooling around!\n",
    "\n",
    "Craft a function called `alphabeta_player` that takes a single argument of a `TicTacToe` class object and returns the minimax move in the `state` of the `TicTacToe` game. As the name implies, this player should be implementing alpha-beta pruning as described in the textbook and lecture.\n",
    "\n",
    "Note that your alpha-beta search for the minimax move should include function definitions for `max_value` and `min_value` (see the aggressively realistic pseudocode from the lecture slides).\n",
    "\n",
    "In your code for the `play_game` method above, make sure that `alphabeta_player` could be a viable input for the `player1` and/or `player2` arguments."
   ]
  },
  {
   "cell_type": "code",
   "execution_count": 10,
   "metadata": {},
   "outputs": [
    {
     "data": {
      "text/plain": [
       "1"
      ]
     },
     "execution_count": 10,
     "metadata": {},
     "output_type": "execute_result"
    }
   ],
   "source": [
    "# Your code here.\n",
    "def alphabeta_player(game):\n",
    "    return alphabeta_search(game)\n",
    "\n",
    "def alphabeta_search(game):\n",
    "    '''search game approach to find best action, using alpha-beta pruning:\n",
    "    alpha = best (highest) move found so far for Max\n",
    "    beta  = best (lowest) move found so far for Min'''\n",
    "\n",
    "    player = game.state.to_move\n",
    "    \n",
    "    \n",
    "    possible_moves = game.state.moves\n",
    "\n",
    "    # Functions used by alphabeta\n",
    "    # took a lot of the structure of the code from page 20 of lecture 12\n",
    "    def max_value(state, alpha, beta):\n",
    "        \n",
    "        #if the game is over, return the win or lose\n",
    "        if game.game_over(state):\n",
    "            return state.utility\n",
    "        \n",
    "        #initialize the v value\n",
    "        value = -9999999\n",
    "        \n",
    "        for action in state.moves:\n",
    "            \n",
    "            new_val = min_value(game.result(action, state), alpha, beta)\n",
    "            if value < new_val:\n",
    "                state.minimax = action\n",
    "                value = new_val\n",
    "            \n",
    "            if value >=  beta: return value\n",
    "            alpha = max(value, alpha)\n",
    "        \n",
    "        return value\n",
    "\n",
    "    def min_value(state, alpha, beta):\n",
    "        \n",
    "         #if the game is over, return the win or lose\n",
    "        if game.game_over(state):\n",
    "            return state.utility\n",
    "        \n",
    "        #initialize the v value, positive infinity\n",
    "        value = 9999999\n",
    "        \n",
    "        for action in state.moves:\n",
    "            \n",
    "            new_val = max_value(game.result(action, state), alpha, beta)\n",
    "            if value > new_val:\n",
    "                state.minimax = action\n",
    "                value = new_val\n",
    "            \n",
    "#             value = min(value, max_value(game.result(action, state), alpha, beta))\n",
    "            \n",
    "            if value <=  alpha: return value \n",
    "            beta = min(value, beta)\n",
    "            \n",
    "        return value\n",
    "        \n",
    "        \n",
    "    # Body of alphabeta_cutoff_search:\n",
    "    \n",
    "    #alpha beta pruning\n",
    "    alpha = -9999999999\n",
    "    beta = 9999999999\n",
    "    \n",
    "    #use max value if the player goes first. Choose the minval if player is second\n",
    "    if game.state.to_move == 'X':\n",
    "        max_value(game.state, alpha, beta)\n",
    "    else:\n",
    "        min_value(game.state, alpha, beta)\n",
    "     \n",
    "    return game.state.minimax\n",
    "\n",
    "\n",
    "\n",
    "\n",
    "ttt = TicTacToe(3,3,3)\n",
    "out = ttt.play_game(alphabeta_player, random_player)\n",
    "out\n"
   ]
  },
  {
   "cell_type": "markdown",
   "metadata": {},
   "source": [
    "Verify that your alpha-beta player code is working appropriately through the following tests, using a standard 3x3 Tic-Tac-Toe board. Run **only 10 games for each test**, and track the number of wins, draws and losses.\n",
    "\n",
    "1. An alpha-beta player who plays first should never lose to a random player who plays second.\n",
    "2. A random player who plays first should never win to an alpha-beta player who plays second.\n",
    "3. Two alpha-beta players should always draw.\n",
    "\n",
    "**Nota bene:** Test your code with fewer games between the players to start, because the alpha-beta player will require substantially more compute time than the random player.  This is why I only ask for 10 games, which still might take a minute or two. "
   ]
  },
  {
   "cell_type": "code",
   "execution_count": 23,
   "metadata": {},
   "outputs": [
    {
     "name": "stdout",
     "output_type": "stream",
     "text": [
      "First-player winning percentage = 0.0\n",
      "First-player losing percentage = 0.0\n",
      "First-player draws percentage = 1.0\n"
     ]
    }
   ],
   "source": [
    "# Your code here.\n",
    "niter = 10\n",
    "wins = 0\n",
    "draws = 0\n",
    "losses = 0\n",
    "for k in range(niter):\n",
    "    ttt = TicTacToe(3,3,3)\n",
    "    out = ttt.play_game(alphabeta_player, alphabeta_player)\n",
    "    if out==1:\n",
    "        wins += 1\n",
    "    elif out==-1:\n",
    "        losses += 1\n",
    "    else:\n",
    "        draws += 1\n",
    "        \n",
    "print('First-player winning percentage = {}'.format(wins/niter))\n",
    "print('First-player losing percentage = {}'.format(losses/niter))\n",
    "print('First-player draws percentage = {}'.format(draws/niter))"
   ]
  },
  {
   "cell_type": "markdown",
   "metadata": {},
   "source": [
    "Alpha Beta First:\n",
    "- First-player winning percentage = 1.0\n",
    "- First-player losing percentage = 0.0\n",
    "- First-player draws percentage = 0.0\n",
    "\n",
    "Alpha Beta Second:\n",
    "- First-player winning percentage = 0.0\n",
    "- First-player losing percentage = 0.8\n",
    "- First-player draws percentage = 0.2\n",
    "\n",
    "Alpha Beta vs. Alpha Beta:\n",
    "- First-player winning percentage = 0.0\n",
    "- First-player losing percentage = 0.0\n",
    "- First-player draws percentage = 1.0\n",
    "\n",
    "\n",
    "\n"
   ]
  },
  {
   "cell_type": "markdown",
   "metadata": {},
   "source": [
    "<br>\n",
    "\n",
    "\n",
    "### (1e) What has pruning ever done for us?\n",
    "\n",
    "Calculate the number of states expanded by the minimax algorithm, with and without pruning, to determine the minimax decision from the initial 3x3 Tic-Tac-Toe board state.  This can be done in many ways, but writing out all the states by hand is **not** one of them (as you will find out!).\n",
    "\n",
    "Write a sentence or two, commenting on the difference in number of nodes expanded by each search."
   ]
  },
  {
   "cell_type": "code",
   "execution_count": 65,
   "metadata": {},
   "outputs": [
    {
     "data": {
      "text/plain": [
       "18297"
      ]
     },
     "execution_count": 65,
     "metadata": {},
     "output_type": "execute_result"
    }
   ],
   "source": [
    "#WITH ALPHA BETA PRUNING\n",
    "def alphabeta_player_recurr(game):\n",
    "    return alphabeta_search_recurr(game)\n",
    "\n",
    "def alphabeta_search_recurr(game):\n",
    "\n",
    "    player = game.state.to_move\n",
    "\n",
    "    possible_moves = game.state.moves\n",
    "\n",
    "    def max_value(state, alpha, beta):\n",
    "        \n",
    "        global counter\n",
    "        counter += 1\n",
    "        \n",
    "        #if the game is over, return the win or lose\n",
    "        if game.game_over(state):\n",
    "            return state.utility\n",
    "        \n",
    "        #initialize the v value\n",
    "        value = -9999999\n",
    "        \n",
    "        for action in state.moves:\n",
    "            \n",
    "            new_val = min_value(game.result(action, state), alpha, beta)\n",
    "            if value < new_val:\n",
    "                state.minimax = action\n",
    "                value = new_val\n",
    "            if value >=  beta: return value\n",
    "            alpha = max(value, alpha)\n",
    "        \n",
    "        return value\n",
    "\n",
    "    def min_value(state, alpha, beta):\n",
    "        \n",
    "        global counter\n",
    "        counter += 1\n",
    "\n",
    "         #if the game is over, return the win or lose\n",
    "        if game.game_over(state):\n",
    "            return state.utility\n",
    "        \n",
    "        #initialize the v value, positive infinity\n",
    "        value = 9999999\n",
    "        \n",
    "        for action in state.moves:\n",
    "            \n",
    "            new_val = max_value(game.result(action, state), alpha, beta)\n",
    "            if value > new_val:\n",
    "                state.minimax = action\n",
    "                value = new_val\n",
    "\n",
    "            if value <=  alpha: return value \n",
    "            beta = min(value, beta)\n",
    "            \n",
    "        return value\n",
    "        \n",
    "    alpha = -9999999999\n",
    "    beta = 9999999999\n",
    "    \n",
    "    \n",
    "    if game.state.to_move == 'X':\n",
    "        max_value(game.state, alpha, beta)\n",
    "    else:\n",
    "        min_value(game.state, alpha, beta)\n",
    "     \n",
    "    return game.state.minimax\n",
    "\n",
    "counter = 0\n",
    "ttt = TicTacToe(3,3,3)\n",
    "#out = ttt.play_game(alphabeta_player_recurr, random_player)\n",
    "alphabeta_player_recurr(ttt)\n",
    "counter\n",
    "\n"
   ]
  },
  {
   "cell_type": "code",
   "execution_count": 41,
   "metadata": {},
   "outputs": [
    {
     "data": {
      "text/plain": [
       "549946"
      ]
     },
     "execution_count": 41,
     "metadata": {},
     "output_type": "execute_result"
    }
   ],
   "source": [
    "#WITH *NO* ALPHA BETA PRUNING\n",
    "def alphabeta_player_recurr_no_prune(game):\n",
    "    return alphabeta_search_recurr_no_prune(game)\n",
    "\n",
    "def alphabeta_search_recurr_no_prune(game):\n",
    "\n",
    "    player = game.state.to_move\n",
    "\n",
    "    possible_moves = game.state.moves\n",
    "\n",
    "    def max_value(state, alpha, beta):\n",
    "        \n",
    "        global counter\n",
    "        counter += 1\n",
    "        \n",
    "        #if the game is over, return the win or lose\n",
    "        if game.game_over(state):\n",
    "            return state.utility\n",
    "        \n",
    "        #initialize the v value\n",
    "        value = -9999999\n",
    "        \n",
    "        for action in state.moves:\n",
    "            \n",
    "            new_val = min_value(game.result(action, state), alpha, beta)\n",
    "            if value < new_val:\n",
    "                state.minimax = action\n",
    "                value = new_val\n",
    "#             if value >=  beta: return value\n",
    "#             alpha = max(value, alpha)\n",
    "        \n",
    "        return value\n",
    "\n",
    "    def min_value(state, alpha, beta):\n",
    "        \n",
    "        global counter\n",
    "        counter += 1\n",
    "\n",
    "         #if the game is over, return the win or lose\n",
    "        if game.game_over(state):\n",
    "            return state.utility\n",
    "        \n",
    "        #initialize the v value, positive infinity\n",
    "        value = 9999999\n",
    "        \n",
    "        for action in state.moves:\n",
    "            \n",
    "            new_val = max_value(game.result(action, state), alpha, beta)\n",
    "            if value > new_val:\n",
    "                state.minimax = action\n",
    "                value = new_val\n",
    "\n",
    "#             if value <=  alpha: return value \n",
    "#             beta = min(value, beta)\n",
    "            \n",
    "        return value\n",
    "        \n",
    "    alpha = -9999999999\n",
    "    beta = 9999999999\n",
    "    \n",
    "    \n",
    "    if game.state.to_move == 'X':\n",
    "        max_value(game.state, alpha, beta)\n",
    "    else:\n",
    "        min_value(game.state, alpha, beta)\n",
    "     \n",
    "    return game.state.minimax\n",
    "\n",
    "counter = 0\n",
    "ttt = TicTacToe(3,3,3)\n",
    "#out = ttt.play_game(alphabeta_player_recurr_no_prune, random_player)\n",
    "alphabeta_player_recurr_no_prune(ttt)\n",
    "counter"
   ]
  },
  {
   "cell_type": "markdown",
   "metadata": {},
   "source": [
    "549946, 18297\n",
    "\n",
    "Pruning helps us a lot!\n",
    "\n",
    "I found that when we do prune we recurr about 18297 times and when we do not prune we will get around 549946 recurrsions. That means with pruning we run the function about 30 times faster!"
   ]
  },
  {
   "cell_type": "markdown",
   "metadata": {},
   "source": [
    "<br>\n",
    "\n",
    "---\n",
    "\n",
    "## Problem 2 (30 points):  Uncertainty"
   ]
  },
  {
   "cell_type": "markdown",
   "metadata": {},
   "source": [
    "### (2a) \n",
    "\n",
    "Suppose you are deciding when to arrive at a party. There is some optimal time to arrive when the loss you feel, as measured by _awkwardness_, is minimized at 0. That is, at some particular time, it is not awkward at all to show up to the party. The awkwardness (loss) increases as you arrive too early or too late relative to this optimal time. What is a suitable loss function, $L(d, x)$, to model this situation? Include definitions for $d$ and $x$, consistent with the examples from this class. Use this loss function this weekend when you go out."
   ]
  },
  {
   "cell_type": "markdown",
   "metadata": {},
   "source": [
    "$L(d,x)$ is loss when we make decision $d$ in state $x$\n",
    "\n",
    "$d$ is the decision you make\n",
    "\n",
    "$x$ is the state variable\n",
    "\n",
    "A suitable loss function would be using Bayes decision that minimizes our expected loss or the minimized awkwardness. For my example, we can think of the following L(d,x) function: \n",
    "\n",
    "$L(d, x) = C(d-x)^2$"
   ]
  },
  {
   "cell_type": "markdown",
   "metadata": {},
   "source": [
    "### (2b)\n",
    "\n",
    "Suppose we have a situation where loss is given by the function $L(d, x) = 2(d-x)^2$. Set up, simplify, and evaluate integral(s) for the expected loss, $E_x[L(d, x)]$, where your prior beliefs regarding $x$ follow the distribution $f(x)$ given below. You may assume $f(x)=0$ for values of $x$ outside of the interval $[0, 3]$.\n",
    "\n",
    "f(x) =  \\begin{cases} \n",
    "      1/2 & 0 \\leq x <1 \\\\\n",
    "      3/8 & 1 \\leq x <2 \\\\\n",
    "      1/8 & 2 \\leq x \\leq 3 \n",
    "   \\end{cases}\n"
   ]
  },
  {
   "cell_type": "markdown",
   "metadata": {},
   "source": [
    " $E_x = 1/2\\int_{0}^{1} 2(d-x)^2 + 3/8\\int_{1}^{2} 2(d-x)^2 + 1/8\\int_{2}^{3} 2(d-x)^2$\n",
    " \n",
    " The first integral is: $3d^2 - 3d + 1/3$\n",
    " \n",
    " The second integral is: $\\frac{6d^2-18d+14}{8}$\n",
    " \n",
    " The third integral is: $\\frac{6d^2 - 30d+38}{3*8}$\n",
    " \n",
    " $3d^2 - 3d + 1/3 + \\frac{1}{24}(6d^2 - 30d+38) + \\frac{1}{8}(6d^2-18d+14)$"
   ]
  },
  {
   "cell_type": "markdown",
   "metadata": {},
   "source": [
    "### (2c) \n",
    "\n",
    "Suppose our expected loss is represented by the function $E_x[(L(d,x)]=(2-d)^2+2$, and our prior beliefs regarding $x$ are given by the distribution $f(x)$ from part b.\n",
    "\n",
    "- Calculate Bayes' Decision, $d_{Bayes}$.\n",
    "\n",
    "- Calculate the Expected Value of Including Uncertainty, EVIU. Suppose that if we ignore uncertainty, our best guess for what decision to make is the median of $x$ (under our prior $f(x)$)."
   ]
  },
  {
   "cell_type": "markdown",
   "metadata": {},
   "source": [
    "$d_{bayes}$ is equal to the minimum of the $E_x[(L(d,x)]$ which will equal 2. \n",
    "- $d_{bayes}$ = $(2-2)^2+2 = 2$.\n",
    "\n",
    "$d_{iu}$ will equal 2 because it is 1/2 for 0 to 1 and $\\frac{3}{8}+\\frac{1}{8}$ for 1 to 2 and you multiply it by 2 because of the 2 in L(d,x). Therefore, $𝐿(d_{iu},x)$ - $𝐿(d_{bayes},x)$ = 1.\n",
    "\n",
    "\n",
    "$(2-d_{iu})^2+2 - (2-d_{bayes})^2+2 = (2-1)^2+2 - (2-2)^2+2 = 1^2+2 - 0+2 = 3 - 2 = 1$ \n"
   ]
  },
  {
   "cell_type": "markdown",
   "metadata": {},
   "source": [
    "<br>\n",
    "\n",
    "## Problem 3 (35 points): Maximizing some objective function with a Genetic Algorithm\n",
    "\n",
    "Suppose we are trying to figure out a cookie recipe, but can't quite remember how much of each ingredient we need.\n",
    "\n",
    "So we want to maximize the following objective function corresponding to how close we are to this recipe:\n",
    "\n",
    "* 3/4 cup granulated sugar (36 tsp)\n",
    "* 3/4 cup packed brown sugar  (36 tsp)\n",
    "* 1 cup butter (48 tsp)\n",
    "* 1 teaspoon vanilla (1 tsp)\n",
    "* 1 egg\n",
    "* 2 1/4 cups flour (108 tsp)\n",
    "* 1 teaspoon baking soda (1 tsp)\n",
    "* 1/2 teaspoon salt (0.5 tsp)\n",
    "* 1 package (12 ounces) chocolate chips (2 cups) (96 tsp)"
   ]
  },
  {
   "cell_type": "code",
   "execution_count": 48,
   "metadata": {},
   "outputs": [],
   "source": [
    "target = [36, 36, 48, 1, 1, 108, 1, 0.5, 96]\n",
    "# sugar, brown sugar, butter, vanilla, egg,\n",
    "# flour, baking soda, salt, choco chips\n",
    "\n"
   ]
  },
  {
   "cell_type": "markdown",
   "metadata": {},
   "source": [
    "An example starting state for a member of our population might look like: $state = [30, 30, 40, 1, 0, 100, 0.5, 0.5, 100]$\n",
    "\n",
    "### (3a) \n",
    "\n",
    "Write an objective function `def recipe_success(state)` that takes a single argument state, and returns the objective function value (fitness) of the state. The objective function should be maximized when a state reaches the target. You could for example define the fitness score of a particular state based on how far away each entry is from the target recipe."
   ]
  },
  {
   "cell_type": "code",
   "execution_count": 74,
   "metadata": {},
   "outputs": [
    {
     "data": {
      "text/plain": [
       "0.028985507246376812"
      ]
     },
     "execution_count": 74,
     "metadata": {},
     "output_type": "execute_result"
    }
   ],
   "source": [
    "def recipe_success(state):\n",
    "    fitness = 1\n",
    "    for i in range(0,len(state)):\n",
    "        if state[i] != target[i]:\n",
    "            diff = np.absolute(target[i] - state[i])\n",
    "            fitness += diff\n",
    "    return 1/fitness\n",
    "            \n",
    "recipe_success(state)"
   ]
  },
  {
   "cell_type": "markdown",
   "metadata": {},
   "source": [
    "### (3b) \n",
    "\n",
    "Using our in class notebook \"CSCI3202_GeneticAlgorithm.ipynb\" as your guide, write a genetic algorithm that starts with a population of 10 randomly generated \"recipes/states/members\" and uses the objective function you wrote in **(3a)** to hopefully hit the target after a certain number of generations. \n",
    "\n",
    "Key components of your code:\n",
    "- Generate the initial population randomly from numbers between 0 and 108 (half step intervals might be helpful since the recipe requires 1/2 tsp salt)\n",
    "- Allow for mutations in your population with an overall probability of mutation set to p = 0.1\n",
    "- Choose 2 \"parents\" in the generation of each \"child\"\n",
    "- Choose a random split point at which to combine the two \"parents\"\n",
    "- Run the algorithm for 200 iterations (\"generations\"). Do you hit your target?"
   ]
  },
  {
   "cell_type": "code",
   "execution_count": 150,
   "metadata": {},
   "outputs": [],
   "source": [
    "# Your code here.\n",
    "class problem:\n",
    "    \n",
    "    def __init__(self, initial_population, objective_function, mutation_probability, fitness_goal):\n",
    "        '''\n",
    "        initial_population = list of lists; each sub-list is a dna string for a population member\n",
    "        objective_function = objective function to maximize\n",
    "        mutation_probability = probability that any given child has a mutation\n",
    "        fitness_goal = fitness goal to achieve (stopping criterion, once member reaches this)\n",
    "        '''\n",
    "        self.population = initial_population\n",
    "        self.initial_population = initial_population\n",
    "        self.objective_function = objective_function\n",
    "        self.p_mutate = mutation_probability\n",
    "        self.n_pop = len(initial_population)\n",
    "        self.n_dna = len(initial_population[0])\n",
    "        self.fitness_goal = fitness_goal\n",
    "\n",
    "    def fitness(self):\n",
    "        '''\n",
    "        calculate each population member's probability of being selected for\n",
    "        reproduction based on performance on objective function\n",
    "        '''\n",
    "        performance = []\n",
    "        for k in range(self.n_pop):\n",
    "            performance.append(self.objective_function(self.population[k]))\n",
    "        total = sum(performance)\n",
    "        p_reproduce = [perf/sum(performance) for perf in performance]\n",
    "        return p_reproduce\n",
    "        \n",
    "    def reproduce(self, parent1, parent2):\n",
    "        # last DNA snippet from parent1:\n",
    "        split = np.random.randint(low=1, high=self.n_dna)\n",
    "        child = parent1[:split] + parent2[split:]\n",
    "        return child\n",
    "\n",
    "    def mutate(self, child, change):\n",
    "        # which gene to mutate?\n",
    "        gene = np.random.randint(low=0, high=self.n_dna)\n",
    "        \n",
    "        if child[gene] > target[gene]:\n",
    "            child[gene] -= np.random.randint(1,change)/2\n",
    "        elif child[gene] < target[gene]:\n",
    "            child[gene] += np.random.randint(1,change)/2\n",
    "        return child\n",
    "\n"
   ]
  },
  {
   "cell_type": "code",
   "execution_count": 151,
   "metadata": {},
   "outputs": [],
   "source": [
    "def genetic_algorithm(problem, n_iter, change):\n",
    "    \n",
    "    for t in range(n_iter):\n",
    "        \n",
    "        new_generation = []\n",
    "        \n",
    "        for k in range(problem.n_pop):\n",
    "            \n",
    "            # select for reproduction\n",
    "            p_reproduce = problem.fitness()\n",
    "            ind_parents = np.random.choice(range(0,problem.n_pop), size=2, p=p_reproduce, replace=False)\n",
    "            parent1, parent2 = problem.population[ind_parents[0]], problem.population[ind_parents[1]]\n",
    "            \n",
    "            # reproduce\n",
    "            child = problem.reproduce(parent1, parent2)\n",
    "            \n",
    "            # mutate\n",
    "            l_mutate = np.random.choice([True, False], p=[problem.p_mutate, 1-problem.p_mutate])\n",
    "            if l_mutate:\n",
    "                child = problem.mutate(child, change)\n",
    "            \n",
    "            # add to new generation\n",
    "            new_generation.append(child)\n",
    "        \n",
    "        # set problem.population = new generation\n",
    "        problem.population = new_generation\n",
    "        \n",
    "        # exit criterion check\n",
    "        performance = [problem.objective_function(member) for member in problem.population]\n",
    "        \n",
    "        best_member = max(zip(performance, problem.population))\n",
    "        \n",
    "        if best_member[0] >= problem.fitness_goal:\n",
    "            return best_member, counter\n",
    "        \n",
    "        counter = t\n",
    "        \n",
    "    \n",
    "\n",
    "    print('reached n_iter')\n",
    "\n",
    "    return False"
   ]
  },
  {
   "cell_type": "code",
   "execution_count": 152,
   "metadata": {},
   "outputs": [],
   "source": [
    "target = [36, 36, 48, 1, 1, 108, 1, 0.5, 96]\n",
    "# sugar, brown sugar, butter, vanilla, egg,\n",
    "# flour, baking soda, salt, choco chips\n",
    "\n",
    "initial_population = []\n",
    "for i in range(0,10):\n",
    "    temp_arr = []\n",
    "    for i in range(0,9):\n",
    "        temp_arr.append((np.random.randint(0,216))/2)\n",
    "    initial_population.append(temp_arr)\n"
   ]
  },
  {
   "cell_type": "code",
   "execution_count": 156,
   "metadata": {},
   "outputs": [
    {
     "name": "stdout",
     "output_type": "stream",
     "text": [
      "(1.0, [36.0, 36.0, 48.0, 1.0, 1.0, 108.0, 1.0, 0.5, 96.0]) 1867\n"
     ]
    }
   ],
   "source": [
    "# THIS CODE IS TO CHECK THE NUMBER OF ITERATIONS IT TAKES WITH A SPECIFIC MUTATION\n",
    "genetic_problem = problem(initial_population=initial_population, \n",
    "                          fitness_goal=1, \n",
    "                          mutation_probability=0.1, \n",
    "                          objective_function=recipe_success)\n",
    "out, counter = genetic_algorithm(genetic_problem, 10000, 28)\n",
    "print(out, counter)"
   ]
  },
  {
   "cell_type": "code",
   "execution_count": 155,
   "metadata": {},
   "outputs": [
    {
     "name": "stdout",
     "output_type": "stream",
     "text": [
      "10 (1.0, [36.0, 36.0, 48.0, 1.0, 1.0, 108.0, 1.0, 0.5, 96.0]) 1799\n",
      "11 (1.0, [36.0, 36.0, 48.0, 1.0, 1.0, 108.0, 1.0, 0.5, 96.0]) 2018\n",
      "12 (1.0, [36.0, 36.0, 48.0, 1.0, 1.0, 108.0, 1.0, 0.5, 96.0]) 1538\n",
      "13 (1.0, [36.0, 36.0, 48.0, 1.0, 1.0, 108.0, 1.0, 0.5, 96.0]) 2556\n",
      "14 (1.0, [36.0, 36.0, 48.0, 1.0, 1.0, 108.0, 1.0, 0.5, 96.0]) 1555\n",
      "15 (1.0, [36.0, 36.0, 48.0, 1.0, 1.0, 108.0, 1.0, 0.5, 96.0]) 2050\n",
      "16 (1.0, [36.0, 36.0, 48.0, 1.0, 1.0, 108.0, 1.0, 0.5, 96.0]) 1123\n",
      "17 (1.0, [36.0, 36.0, 48.0, 1.0, 1.0, 108.0, 1.0, 0.5, 96.0]) 1123\n",
      "18 (1.0, [36.0, 36.0, 48.0, 1.0, 1.0, 108.0, 1.0, 0.5, 96.0]) 1668\n",
      "19 (1.0, [36.0, 36.0, 48.0, 1.0, 1.0, 108.0, 1.0, 0.5, 96.0]) 1217\n",
      "20 (1.0, [36.0, 36.0, 48.0, 1.0, 1.0, 108.0, 1.0, 0.5, 96.0]) 1708\n",
      "21 (1.0, [36.0, 36.0, 48.0, 1.0, 1.0, 108.0, 1.0, 0.5, 96.0]) 1842\n",
      "22 (1.0, [36.0, 36.0, 48.0, 1.0, 1.0, 108.0, 1.0, 0.5, 96.0]) 2190\n",
      "23 (1.0, [36.0, 36.0, 48.0, 1.0, 1.0, 108.0, 1.0, 0.5, 96.0]) 2041\n",
      "24 (1.0, [36.0, 36.0, 48.0, 1.0, 1.0, 108.0, 1.0, 0.5, 96.0]) 1650\n",
      "25 (1.0, [36.0, 36.0, 48.0, 1.0, 1.0, 108.0, 1.0, 0.5, 96.0]) 1169\n",
      "26 (1.0, [36.0, 36.0, 48.0, 1.0, 1.0, 108.0, 1.0, 0.5, 96.0]) 2307\n",
      "27 (1.0, [36.0, 36.0, 48.0, 1.0, 1.0, 108.0, 1.0, 0.5, 96.0]) 850\n",
      "28 (1.0, [36.0, 36.0, 48.0, 1.0, 1.0, 108.0, 1.0, 0.5, 96.0]) 2887\n",
      "29 (1.0, [36.0, 36.0, 48.0, 1.0, 1.0, 108.0, 1.0, 0.5, 96.0]) 1638\n",
      "30 (1.0, [36.0, 36.0, 48.0, 1.0, 1.0, 108.0, 1.0, 0.5, 96.0]) 1913\n",
      "31 (1.0, [36.0, 36.0, 48.0, 1.0, 1.0, 108.0, 1.0, 0.5, 96.0]) 3376\n",
      "32 (1.0, [36.0, 36.0, 48.0, 1.0, 1.0, 108.0, 1.0, 0.5, 96.0]) 2168\n",
      "33 (1.0, [36.0, 36.0, 48.0, 1.0, 1.0, 108.0, 1.0, 0.5, 96.0]) 2606\n",
      "34 (1.0, [36.0, 36.0, 48.0, 1.0, 1.0, 108.0, 1.0, 0.5, 96.0]) 1759\n",
      "35 (1.0, [36.0, 36.0, 48.0, 1.0, 1.0, 108.0, 1.0, 0.5, 96.0]) 3291\n",
      "36 (1.0, [36.0, 36.0, 48.0, 1.0, 1.0, 108.0, 1.0, 0.5, 96.0]) 2156\n",
      "37 (1.0, [36.0, 36.0, 48.0, 1.0, 1.0, 108.0, 1.0, 0.5, 96.0]) 4014\n",
      "38 (1.0, [36.0, 36.0, 48.0, 1.0, 1.0, 108.0, 1.0, 0.5, 96.0]) 4596\n",
      "39 (1.0, [36.0, 36.0, 48.0, 1.0, 1.0, 108.0, 1.0, 0.5, 96.0]) 2072\n"
     ]
    }
   ],
   "source": [
    "# THIS CODE IS TO CHECK THE NUMBER OF ITERATIONS IT TAKES WITH MULTIPLE MUTATION\n",
    "for i in range(10,40):\n",
    "    genetic_problem = problem(initial_population=initial_population, \n",
    "                          fitness_goal=1, \n",
    "                          mutation_probability=0.1, \n",
    "                          objective_function=recipe_success)\n",
    "    out, counter = genetic_algorithm(genetic_problem, 10000, i)\n",
    "    print(i, out, counter)\n"
   ]
  },
  {
   "cell_type": "code",
   "execution_count": 157,
   "metadata": {},
   "outputs": [
    {
     "name": "stdout",
     "output_type": "stream",
     "text": [
      "0 (1.0, [36.0, 36.0, 48.0, 1.0, 1.0, 108.0, 1.0, 0.5, 96.0]) 1093\n",
      "1 (1.0, [36.0, 36.0, 48.0, 1.0, 1.0, 108.0, 1.0, 0.5, 96.0]) 1468\n",
      "2 (1.0, [36.0, 36.0, 48.0, 1.0, 1.0, 108.0, 1.0, 0.5, 96.0]) 1948\n",
      "3 (1.0, [36.0, 36.0, 48.0, 1.0, 1.0, 108.0, 1.0, 0.5, 96.0]) 2011\n",
      "4 (1.0, [36.0, 36.0, 48.0, 1.0, 1.0, 108.0, 1.0, 0.5, 96.0]) 1462\n",
      "5 (1.0, [36.0, 36.0, 48.0, 1.0, 1.0, 108.0, 1.0, 0.5, 96.0]) 1128\n",
      "6 (1.0, [36.0, 36.0, 48.0, 1.0, 1.0, 108.0, 1.0, 0.5, 96.0]) 2101\n",
      "7 (1.0, [36.0, 36.0, 48.0, 1.0, 1.0, 108.0, 1.0, 0.5, 96.0]) 1521\n",
      "8 (1.0, [36.0, 36.0, 48.0, 1.0, 1.0, 108.0, 1.0, 0.5, 96.0]) 1266\n",
      "9 (1.0, [36.0, 36.0, 48.0, 1.0, 1.0, 108.0, 1.0, 0.5, 96.0]) 2270\n",
      "1626.8\n"
     ]
    }
   ],
   "source": [
    "# THIS CODE IS TO CHECK THE AVERAGE NUMBER OF ITERATIONS\n",
    "avg = 0\n",
    "for i in range(0,10):\n",
    "    genetic_problem = problem(initial_population=initial_population, \n",
    "                          fitness_goal=1, \n",
    "                          mutation_probability=0.1, \n",
    "                          objective_function=recipe_success)\n",
    "    out, counter = genetic_algorithm(genetic_problem, 10000, 28)\n",
    "    avg += counter\n",
    "    print(i, out, counter)\n",
    "    \n",
    "print(avg/10)\n",
    "    \n"
   ]
  },
  {
   "cell_type": "markdown",
   "metadata": {},
   "source": [
    "I have some extra code here as I am trying to find the best mutation integers so that it minimmizes the number of mutations it takes to reach the goal and found the with my code, the integer change in mutation is around 26-29 with a sweet spot at 27 or 28.\n",
    "\n",
    "I definitely cannot reach my goal within 200 iterations.\n",
    "\n",
    "With a mutation rate of randint(0,28)/2, I reach my target of all ingredients in ~1626 iterations."
   ]
  },
  {
   "cell_type": "markdown",
   "metadata": {},
   "source": [
    "### (3c)\n",
    "\n",
    "Report the following:\n",
    "- How many generations did it take to hit the goal?\n",
    "- If you change the initial population size to 100, does that change the number of generations it takes to achieve the goal recipe?\n",
    "- If you change the probability of mutation to 0.2, does that affect the number of generations it takes to achieve the goal recipe?\n",
    "\n",
    "Now just answer whether you have minimized or maximized the maximize function?\n",
    "In class notebook will be maximize.\n",
    "\n",
    "How many ingredients did you match? How many iterations did it take? 2-6 in 600 iterations. \n",
    "\n",
    "Specify the initial population: [36, 0, 0, 0...] and [0, 36, 0, 0, ...]\n",
    "\n"
   ]
  },
  {
   "cell_type": "markdown",
   "metadata": {},
   "source": [
    "- I maximized the maximize function.\n",
    "- How many ingredients did you match? \n",
    "    - I was able to match all of the ingredients in ~1626 iterations.\n",
    "\n",
    "- Specify the initial population: [36, 0, 0, 0...] and [0, 36, 0, 0, ...]\n",
    "    - The initial population is a random list of random integers between 0 and 108 as the key components section specifies."
   ]
  },
  {
   "cell_type": "code",
   "execution_count": null,
   "metadata": {},
   "outputs": [],
   "source": []
  }
 ],
 "metadata": {
  "kernelspec": {
   "display_name": "Python 3",
   "language": "python",
   "name": "python3"
  },
  "language_info": {
   "codemirror_mode": {
    "name": "ipython",
    "version": 3
   },
   "file_extension": ".py",
   "mimetype": "text/x-python",
   "name": "python",
   "nbconvert_exporter": "python",
   "pygments_lexer": "ipython3",
   "version": "3.7.1"
  }
 },
 "nbformat": 4,
 "nbformat_minor": 2
}
